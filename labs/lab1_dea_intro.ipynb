# Laboratorio 1: DEA Básico  
_Ejecuta el siguiente código que ya vimos en el Capítulo 1._

